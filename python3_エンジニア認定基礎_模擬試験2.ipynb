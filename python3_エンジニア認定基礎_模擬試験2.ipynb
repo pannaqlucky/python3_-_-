{
  "nbformat": 4,
  "nbformat_minor": 0,
  "metadata": {
    "colab": {
      "name": "python3_エンジニア認定基礎_模擬試験2.ipynb",
      "provenance": []
    },
    "kernelspec": {
      "name": "python3",
      "display_name": "Python 3"
    },
    "language_info": {
      "name": "python"
    }
  },
  "cells": [
    {
      "cell_type": "code",
      "metadata": {
        "colab": {
          "base_uri": "https://localhost:8080/"
        },
        "id": "7i6Bhgk0DxZt",
        "outputId": "c71de4e3-bb2e-4343-be8c-92ed0098fab5"
      },
      "source": [
        "a = 2\n",
        "b = a ** 3\n",
        "c = b / 2 + 3\n",
        "d = 10\n",
        "e = d // b\n",
        "f = d % c\n",
        "print ('{1}, {0}'.format(e, f))"
      ],
      "execution_count": 1,
      "outputs": [
        {
          "output_type": "stream",
          "text": [
            "3.0, 1\n"
          ],
          "name": "stdout"
        }
      ]
    },
    {
      "cell_type": "code",
      "metadata": {
        "colab": {
          "base_uri": "https://localhost:8080/"
        },
        "id": "Iq4tD-8xEqW9",
        "outputId": "b08cf01d-a033-4fd4-e053-955271d6d261"
      },
      "source": [
        "Zen = 'NowIsBetterThanNever'\n",
        "print('{}{}{}'.format(Zen[4], Zen[-5], Zen[1:3]))"
      ],
      "execution_count": 2,
      "outputs": [
        {
          "output_type": "stream",
          "text": [
            "sNow\n"
          ],
          "name": "stdout"
        }
      ]
    },
    {
      "cell_type": "code",
      "metadata": {
        "colab": {
          "base_uri": "https://localhost:8080/",
          "height": 35
        },
        "id": "4jQVZ2pCEwZv",
        "outputId": "0ddf2c79-6a02-4267-c9f8-caa5faccdeab"
      },
      "source": [
        "Zen = 'BeautifulIsBetterThanUgly'\n",
        "Zen[1000:10000]\n"
      ],
      "execution_count": 7,
      "outputs": [
        {
          "output_type": "execute_result",
          "data": {
            "application/vnd.google.colaboratory.intrinsic+json": {
              "type": "string"
            },
            "text/plain": [
              "''"
            ]
          },
          "metadata": {
            "tags": []
          },
          "execution_count": 7
        }
      ]
    },
    {
      "cell_type": "code",
      "metadata": {
        "colab": {
          "base_uri": "https://localhost:8080/"
        },
        "id": "sLTbiSUJE2Tr",
        "outputId": "510c3eaf-a729-409e-a8bb-94799e6bf5b9"
      },
      "source": [
        "a, b = 0, 1\n",
        "while a < 10:\n",
        "    print(a, end=',')\n",
        "    a, b = b, a+b"
      ],
      "execution_count": 8,
      "outputs": [
        {
          "output_type": "stream",
          "text": [
            "0,1,1,2,3,5,8,"
          ],
          "name": "stdout"
        }
      ]
    },
    {
      "cell_type": "code",
      "metadata": {
        "colab": {
          "base_uri": "https://localhost:8080/"
        },
        "id": "iAFHOU0IJpX_",
        "outputId": "3a3df5c9-7897-41bf-830f-f2292197586f"
      },
      "source": [
        "months = ['January', 'March', 'May', 'July']\n",
        "months.append('September')\n",
        "for month in months[:]:\n",
        "    if len(month) > 5:\n",
        "        months.insert(0,month)\n",
        "\n",
        "print(months, end = '')"
      ],
      "execution_count": 9,
      "outputs": [
        {
          "output_type": "stream",
          "text": [
            "['September', 'January', 'January', 'March', 'May', 'July', 'September']"
          ],
          "name": "stdout"
        }
      ]
    },
    {
      "cell_type": "code",
      "metadata": {
        "colab": {
          "base_uri": "https://localhost:8080/"
        },
        "id": "zHgwrtDrKW9v",
        "outputId": "d94a3472-17db-4528-c502-69f8e71ae825"
      },
      "source": [
        "for n in range(2, 10):\n",
        "            for x in range(2 ,n):\n",
        "                      if n % x == 0:\n",
        "                                print(n, 'equals', x, '*', n//x) \n",
        "                                break\n",
        "            else:\n",
        "                      print(n,'is a prime number')"
      ],
      "execution_count": 14,
      "outputs": [
        {
          "output_type": "stream",
          "text": [
            "2 is a prime number\n",
            "3 is a prime number\n",
            "4 equals 2 * 2\n",
            "5 is a prime number\n",
            "6 equals 2 * 3\n",
            "7 is a prime number\n",
            "8 equals 2 * 4\n",
            "9 equals 3 * 3\n"
          ],
          "name": "stdout"
        }
      ]
    },
    {
      "cell_type": "code",
      "metadata": {
        "colab": {
          "base_uri": "https://localhost:8080/"
        },
        "id": "-Jzzlm0cK6Fk",
        "outputId": "f44dfc5f-1275-4919-f93b-a29625a23002"
      },
      "source": [
        "for i in range(-3, -18, -3):\n",
        "    print(i, end=\", \")"
      ],
      "execution_count": 15,
      "outputs": [
        {
          "output_type": "stream",
          "text": [
            "-3, -6, -9, -12, -15, "
          ],
          "name": "stdout"
        }
      ]
    },
    {
      "cell_type": "code",
      "metadata": {
        "colab": {
          "base_uri": "https://localhost:8080/"
        },
        "id": "l7lCH-0lK9ct",
        "outputId": "aa9adc85-a469-4754-8cf8-b6b1eab3c7b1"
      },
      "source": [
        "Zen = ['Now','is','better','than','never']\n",
        "for i ,v in enumerate(Zen):\n",
        "    print(i, v)"
      ],
      "execution_count": 16,
      "outputs": [
        {
          "output_type": "stream",
          "text": [
            "0 Now\n",
            "1 is\n",
            "2 better\n",
            "3 than\n",
            "4 never\n"
          ],
          "name": "stdout"
        }
      ]
    },
    {
      "cell_type": "code",
      "metadata": {
        "colab": {
          "base_uri": "https://localhost:8080/"
        },
        "id": "bno6ZXWALMU3",
        "outputId": "87f5fbd0-bc46-4ef1-cb9a-d5cfd44400ba"
      },
      "source": [
        "Zen = ['Now','is','better','than','never']\n",
        "for i in range(len(Zen)):\n",
        "    print(i, Zen[i])"
      ],
      "execution_count": 18,
      "outputs": [
        {
          "output_type": "stream",
          "text": [
            "0 Now\n",
            "1 is\n",
            "2 better\n",
            "3 than\n",
            "4 never\n"
          ],
          "name": "stdout"
        }
      ]
    },
    {
      "cell_type": "code",
      "metadata": {
        "colab": {
          "base_uri": "https://localhost:8080/"
        },
        "id": "NfB3Nf66LgbY",
        "outputId": "78aa9d9d-6115-4ecb-c540-6ce37f7a05d7"
      },
      "source": [
        "i = 1\n",
        "i = 2\n",
        "\n",
        "def f(arg):\n",
        "    i = 3\n",
        "    print(arg)\n",
        "\n",
        "i = 4\n",
        "i = 5\n",
        "\n",
        "f(i)"
      ],
      "execution_count": 19,
      "outputs": [
        {
          "output_type": "stream",
          "text": [
            "5\n"
          ],
          "name": "stdout"
        }
      ]
    },
    {
      "cell_type": "code",
      "metadata": {
        "colab": {
          "base_uri": "https://localhost:8080/"
        },
        "id": "P8lVO-YaLkOd",
        "outputId": "1d09d364-7f0d-461c-ed96-8fb8d261df9b"
      },
      "source": [
        "def culc(a, b, squares=[], cubes=[]):\n",
        "    squares.append(a ** 2)\n",
        "    cubes.append(b ** 3)\n",
        "    return squares, cubes\n",
        "\n",
        "print(culc(2,2))\n",
        "print(culc(3,3))\n",
        "print(culc(4,4))\n",
        "print(culc(5,5))"
      ],
      "execution_count": 21,
      "outputs": [
        {
          "output_type": "stream",
          "text": [
            "([4], [8])\n",
            "([4, 9], [8, 27])\n",
            "([4, 9, 16], [8, 27, 64])\n",
            "([4, 9, 16, 25], [8, 27, 64, 125])\n"
          ],
          "name": "stdout"
        }
      ]
    },
    {
      "cell_type": "code",
      "metadata": {
        "id": "RYqy8YG-Nkk1"
      },
      "source": [
        "def location(city, state='NewYork', country='USA'):\n",
        "    print(\"I live in\", country, \".\")\n",
        "    print(\"My company is located in\",city,\",\",state,\".\")\n",
        "　location()\n"
      ],
      "execution_count": null,
      "outputs": []
    },
    {
      "cell_type": "code",
      "metadata": {
        "colab": {
          "base_uri": "https://localhost:8080/"
        },
        "id": "IC0O622cOaEb",
        "outputId": "82b915ab-a17a-44fe-eeab-86111dc0433e"
      },
      "source": [
        "def shop(name,*argsY,**argsX):\n",
        "    print(\"flowershop:\", name)\n",
        "    keys = sorted(argsX.keys())\n",
        "    for kw in keys:\n",
        "        print(kw, \":\", argsX[kw])\n",
        "    for Y in argsY:\n",
        "        print(Y)\n",
        "\n",
        "shop(\"Iris\",\"Open: 9:30 am\",\"Close: 10:30 pm\",\"Monday and holidays are closed.\",bouquet=\"Sunflower\",plants=\"Pachira\",dried=\"Rose\")"
      ],
      "execution_count": 43,
      "outputs": [
        {
          "output_type": "stream",
          "text": [
            "flowershop: Iris\n",
            "bouquet : Sunflower\n",
            "dried : Rose\n",
            "plants : Pachira\n",
            "Open: 9:30 am\n",
            "Close: 10:30 pm\n",
            "Monday and holidays are closed.\n"
          ],
          "name": "stdout"
        }
      ]
    },
    {
      "cell_type": "code",
      "metadata": {
        "colab": {
          "base_uri": "https://localhost:8080/"
        },
        "id": "4gcCzNMrO-gj",
        "outputId": "02706807-4a7e-4de4-d9df-f6c8ebc74ed3"
      },
      "source": [
        "squares = []\n",
        "for x in range(0, 10, 3):\n",
        "    squares.append(x ** 2)\n",
        "\n",
        "print(squares)"
      ],
      "execution_count": 44,
      "outputs": [
        {
          "output_type": "stream",
          "text": [
            "[0, 9, 36, 81]\n"
          ],
          "name": "stdout"
        }
      ]
    },
    {
      "cell_type": "code",
      "metadata": {
        "colab": {
          "base_uri": "https://localhost:8080/"
        },
        "id": "x7dpJ5d4PD_R",
        "outputId": "f41c9509-9a55-4936-8166-24071d221b14"
      },
      "source": [
        "squares = [x ** 2 for x in range(0, 10, 3)]\n",
        "print(squares)"
      ],
      "execution_count": 45,
      "outputs": [
        {
          "output_type": "stream",
          "text": [
            "[0, 9, 36, 81]\n"
          ],
          "name": "stdout"
        }
      ]
    },
    {
      "cell_type": "code",
      "metadata": {
        "colab": {
          "base_uri": "https://localhost:8080/"
        },
        "id": "vYdmuvJbPL8o",
        "outputId": "9337a2eb-74c2-400f-dd4d-5e30b662713f"
      },
      "source": [
        "matrix = [[1, 3, 5], [4, 9, 25], [8, 27, 125]]\n",
        "power = [[row[i] for row in matrix] for i in range(3)] \n",
        "print(power)"
      ],
      "execution_count": 47,
      "outputs": [
        {
          "output_type": "stream",
          "text": [
            "[[1, 4, 8], [3, 9, 27], [5, 25, 125]]\n"
          ],
          "name": "stdout"
        }
      ]
    },
    {
      "cell_type": "code",
      "metadata": {
        "colab": {
          "base_uri": "https://localhost:8080/"
        },
        "id": "mePlIfPYPYlK",
        "outputId": "7ce1866a-1ce5-4bba-ea40-f5a0fbd6e53b"
      },
      "source": [
        "matrix = [[1, 3, 5], [4, 9, 25], [8, 27, 125]]\n",
        "power1 = list(zip(matrix))\n",
        "power2 = list(zip(*matrix))\n",
        "power3 = list(zip(matrix))\n",
        "print(power1)\n",
        "print(power2)\n",
        "print(power3)\n"
      ],
      "execution_count": 52,
      "outputs": [
        {
          "output_type": "stream",
          "text": [
            "[([1, 3, 5],), ([4, 9, 25],), ([8, 27, 125],)]\n",
            "[(1, 4, 8), (3, 9, 27), (5, 25, 125)]\n",
            "[([1, 3, 5],), ([4, 9, 25],), ([8, 27, 125],)]\n"
          ],
          "name": "stdout"
        }
      ]
    },
    {
      "cell_type": "code",
      "metadata": {
        "colab": {
          "base_uri": "https://localhost:8080/"
        },
        "id": "pfULI67OP9DD",
        "outputId": "969a192d-c6b7-4ac8-dc21-9fe81b7be9ce"
      },
      "source": [
        "combs = []\n",
        "for x in [1,2,3]:\n",
        "    for y in [3,2,5]:\n",
        "        if x != y:\n",
        "            combs.append((x, y))\n",
        "\n",
        "print(combs)"
      ],
      "execution_count": 53,
      "outputs": [
        {
          "output_type": "stream",
          "text": [
            "[(1, 3), (1, 2), (1, 5), (2, 3), (2, 5), (3, 2), (3, 5)]\n"
          ],
          "name": "stdout"
        }
      ]
    },
    {
      "cell_type": "code",
      "metadata": {
        "colab": {
          "base_uri": "https://localhost:8080/"
        },
        "id": "svzWQuTFRMFL",
        "outputId": "d7a9c947-5933-4168-9d38-20e09709459a"
      },
      "source": [
        "list = [-10, 1, 15, 20, 30]\n",
        "list.append(50)\n",
        "list.sort(reverse = True)\n",
        "list.insert(2,5)\n",
        "list.pop(-1)\n",
        "print(list)"
      ],
      "execution_count": 62,
      "outputs": [
        {
          "output_type": "stream",
          "text": [
            "[50, 30, 5, 20, 15, 1]\n"
          ],
          "name": "stdout"
        }
      ]
    },
    {
      "cell_type": "code",
      "metadata": {
        "colab": {
          "base_uri": "https://localhost:8080/"
        },
        "id": "PpHeOh7aRP9R",
        "outputId": "6502346a-9d34-4138-99a6-a1b3704decbd"
      },
      "source": [
        "Zen = 'FlatIsBetterThanNested'\n",
        "print(Zen[0:20:3])"
      ],
      "execution_count": 63,
      "outputs": [
        {
          "output_type": "stream",
          "text": [
            "FtBtTns\n"
          ],
          "name": "stdout"
        }
      ]
    },
    {
      "cell_type": "code",
      "metadata": {
        "id": "mg0i4siSRW3d"
      },
      "source": [
        "import sys\n",
        "dir(sys)\n",
        "\n"
      ],
      "execution_count": null,
      "outputs": []
    },
    {
      "cell_type": "code",
      "metadata": {
        "colab": {
          "base_uri": "https://localhost:8080/"
        },
        "id": "QHVjVG9cRkfW",
        "outputId": "9b596b8f-ea5d-4f14-f1be-ac0b85f232d3"
      },
      "source": [
        "import math\n",
        "print('{1:.5f}, {0:.3f}'.format(math.pi, math.e))"
      ],
      "execution_count": 70,
      "outputs": [
        {
          "output_type": "stream",
          "text": [
            "2.71828, 3.142\n"
          ],
          "name": "stdout"
        }
      ]
    },
    {
      "cell_type": "code",
      "metadata": {
        "colab": {
          "base_uri": "https://localhost:8080/"
        },
        "id": "sWE8ldbqRolF",
        "outputId": "0e98074b-1a89-41dc-d45d-a1adb5dd3801"
      },
      "source": [
        "try:\n",
        "    int_a = int(input('整数a:'))\n",
        "    int_b = int(input('整数b:'))\n",
        "    print(int_a ** 3)\n",
        "    print((int_a ** 3) / int_b)\n",
        "except(ZeroDivisionError) :\n",
        "    print('C')\n",
        "except(ValueError) as v:\n",
        "    print(type(v))\n",
        "    print('D')\n",
        "except:\n",
        "    print('E')\n",
        "else:\n",
        "    print('F')\n",
        "finally:\n",
        "    print('G')"
      ],
      "execution_count": 71,
      "outputs": [
        {
          "output_type": "stream",
          "text": [
            "整数a:3\n",
            "整数b:0\n",
            "27\n",
            "C\n",
            "G\n"
          ],
          "name": "stdout"
        }
      ]
    },
    {
      "cell_type": "code",
      "metadata": {
        "colab": {
          "base_uri": "https://localhost:8080/",
          "height": 138
        },
        "id": "6KWsCdJpRuM0",
        "outputId": "d6c6d9ce-d962-41b6-e419-946c04a0920c"
      },
      "source": [
        "with open(\"file.txt\") as f:\n",
        "    for line in f:\n",
        "          print(line, end=\"\")\n",
        "f.close()"
      ],
      "execution_count": 78,
      "outputs": [
        {
          "output_type": "error",
          "ename": "IndentationError",
          "evalue": "ignored",
          "traceback": [
            "\u001b[0;36m  File \u001b[0;32m\"<ipython-input-78-4c59e8554680>\"\u001b[0;36m, line \u001b[0;32m4\u001b[0m\n\u001b[0;31m    f.close()\u001b[0m\n\u001b[0m             ^\u001b[0m\n\u001b[0;31mIndentationError\u001b[0m\u001b[0;31m:\u001b[0m unindent does not match any outer indentation level\n"
          ]
        }
      ]
    },
    {
      "cell_type": "code",
      "metadata": {
        "colab": {
          "base_uri": "https://localhost:8080/"
        },
        "id": "djOF0uxTSYX8",
        "outputId": "cb74b38f-bfa3-4a78-9a7b-08a8c3e9d4ed"
      },
      "source": [
        "class wexal(Exception):\n",
        "    pass\n",
        "\n",
        "name = 'David'\n",
        "\n",
        "def func(name: int):\n",
        "    try:\n",
        "        if name != 0:\n",
        "            raise_his_character(name)\n",
        "    except wexal:\n",
        "        print('strategic')\n",
        "        raise Exception\n",
        "def raise_his_character(a):\n",
        "    print(a, 'is a　')\n",
        "    raise wexal\n",
        "    print('naughty boy')\n",
        "\n",
        "try:\n",
        "    func(name)\n",
        "except Exception:\n",
        "    print('AI')"
      ],
      "execution_count": 79,
      "outputs": [
        {
          "output_type": "stream",
          "text": [
            "David is a　\n",
            "strategic\n",
            "AI\n"
          ],
          "name": "stdout"
        }
      ]
    },
    {
      "cell_type": "code",
      "metadata": {
        "colab": {
          "base_uri": "https://localhost:8080/"
        },
        "id": "BoZLkm7USqPS",
        "outputId": "fd992c56-01a6-46a6-fca8-569c81aaf39e"
      },
      "source": [
        "def scope():\n",
        "    loc = \"init\"\n",
        "    def do_local():\n",
        "        loc = \"local\"\n",
        "    def do_nonlocal():\n",
        "        nonlocal loc\n",
        "        loc = \"nonlocal\"\n",
        "    def do_global():\n",
        "        global loc\n",
        "        loc = \"global\"\n",
        "\n",
        "    do_local()\n",
        "    print(\"A:\", loc)\n",
        "    do_nonlocal()\n",
        "    print(\"B:\", loc)\n",
        "    do_global()\n",
        "    print(\"C:\", loc)\n",
        "\n",
        "scope()\n",
        "print(\"D:\", loc)"
      ],
      "execution_count": 80,
      "outputs": [
        {
          "output_type": "stream",
          "text": [
            "A: init\n",
            "B: nonlocal\n",
            "C: nonlocal\n",
            "D: global\n"
          ],
          "name": "stdout"
        }
      ]
    },
    {
      "cell_type": "code",
      "metadata": {
        "colab": {
          "base_uri": "https://localhost:8080/"
        },
        "id": "QFfTFmwQTHpT",
        "outputId": "91a924a9-5375-4c8d-809a-660f1841c3b3"
      },
      "source": [
        "class kusanagi():\n",
        "    def s(self):\n",
        "        print(\"Need Speed?\")\n",
        "        self.m()\n",
        "    def m(self): \n",
        "        print(\"I'm Saya.\")\n",
        "class wexal(kusanagi):\n",
        "        def m(self):\n",
        "            print(\"I'm David.\")\n",
        "\n",
        "k = kusanagi()\n",
        "w = wexal()\n",
        "k.s()\n",
        "w.s()\n"
      ],
      "execution_count": 85,
      "outputs": [
        {
          "output_type": "stream",
          "text": [
            "Need Speed?\n",
            "I'm Saya.\n",
            "Need Speed?\n",
            "I'm David.\n"
          ],
          "name": "stdout"
        }
      ]
    },
    {
      "cell_type": "code",
      "metadata": {
        "colab": {
          "base_uri": "https://localhost:8080/",
          "height": 35
        },
        "id": "bIhxeFvHWCN1",
        "outputId": "58c0409a-634c-4663-fb0e-65210df26a35"
      },
      "source": [
        "import random\n",
        "random.choice(['apple','pear','banana'])"
      ],
      "execution_count": 94,
      "outputs": [
        {
          "output_type": "execute_result",
          "data": {
            "application/vnd.google.colaboratory.intrinsic+json": {
              "type": "string"
            },
            "text/plain": [
              "'apple'"
            ]
          },
          "metadata": {
            "tags": []
          },
          "execution_count": 94
        }
      ]
    },
    {
      "cell_type": "code",
      "metadata": {
        "colab": {
          "base_uri": "https://localhost:8080/"
        },
        "id": "enjghTdCWmxY",
        "outputId": "e0bdd39a-6af9-425a-cdca-dcce9540c641"
      },
      "source": [
        "import random\n",
        "random.sample(range(10),3)"
      ],
      "execution_count": 95,
      "outputs": [
        {
          "output_type": "execute_result",
          "data": {
            "text/plain": [
              "[4, 2, 9]"
            ]
          },
          "metadata": {
            "tags": []
          },
          "execution_count": 95
        }
      ]
    },
    {
      "cell_type": "code",
      "metadata": {
        "colab": {
          "base_uri": "https://localhost:8080/"
        },
        "id": "gDC7r4m9WmrJ",
        "outputId": "fa1fa550-722a-431e-87ac-41ddf2952052"
      },
      "source": [
        "import random\n",
        "random.randrange(5)"
      ],
      "execution_count": 96,
      "outputs": [
        {
          "output_type": "execute_result",
          "data": {
            "text/plain": [
              "4"
            ]
          },
          "metadata": {
            "tags": []
          },
          "execution_count": 96
        }
      ]
    },
    {
      "cell_type": "code",
      "metadata": {
        "id": "Elm8cx8CWxuw"
      },
      "source": [
        ""
      ],
      "execution_count": null,
      "outputs": []
    }
  ]
}