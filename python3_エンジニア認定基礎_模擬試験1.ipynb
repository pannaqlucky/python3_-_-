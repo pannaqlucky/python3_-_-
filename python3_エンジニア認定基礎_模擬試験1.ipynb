{
  "nbformat": 4,
  "nbformat_minor": 0,
  "metadata": {
    "colab": {
      "name": "python3 エンジニア認定基礎 模擬試験1.ipynb",
      "provenance": [],
      "collapsed_sections": []
    },
    "kernelspec": {
      "name": "python3",
      "display_name": "Python 3"
    },
    "language_info": {
      "name": "python"
    }
  },
  "cells": [
    {
      "cell_type": "code",
      "metadata": {
        "colab": {
          "base_uri": "https://localhost:8080/"
        },
        "id": "rRQKy-67YCmp",
        "outputId": "e9f2dcb9-6123-4deb-9d6d-d38b2659f60e"
      },
      "source": [
        "a = 10\n",
        "b = a**2\n",
        "c = b% 20 + 5\n",
        "d = 8\n",
        "e = d / b \n",
        "f = d // c\n",
        "print ('{0},{1}'.format(e,f))"
      ],
      "execution_count": 2,
      "outputs": [
        {
          "output_type": "stream",
          "text": [
            "0.08,1\n"
          ],
          "name": "stdout"
        }
      ]
    },
    {
      "cell_type": "code",
      "metadata": {
        "colab": {
          "base_uri": "https://localhost:8080/"
        },
        "id": "yvNRXQaqYiDO",
        "outputId": "a226b635-9646-4945-c441-5523630bfd7f"
      },
      "source": [
        "a = \"She said,\\\"He\" + 3 * \"y\" + \"!\"\n",
        "b = \"How are you?\\\" \"\n",
        "print (a, b)"
      ],
      "execution_count": 3,
      "outputs": [
        {
          "output_type": "stream",
          "text": [
            "She said,\"Heyyy! How are you?\" \n"
          ],
          "name": "stdout"
        }
      ]
    },
    {
      "cell_type": "code",
      "metadata": {
        "colab": {
          "base_uri": "https://localhost:8080/"
        },
        "id": "InbTUZRZYkI3",
        "outputId": "cfbc6016-e72f-434a-d90e-8fb18af93777"
      },
      "source": [
        "Zen = 'NowIsBetterThanNever'\n",
        "print('{}{}{}{}'.format(Zen[5], Zen[10], Zen[-7], Zen[-3:-1]))"
      ],
      "execution_count": 4,
      "outputs": [
        {
          "output_type": "stream",
          "text": [
            "Brave\n"
          ],
          "name": "stdout"
        }
      ]
    },
    {
      "cell_type": "code",
      "metadata": {
        "colab": {
          "base_uri": "https://localhost:8080/",
          "height": 35
        },
        "id": "Xvs2MYjmYnFr",
        "outputId": "28527b0c-50d1-404a-dfea-6c3663679994"
      },
      "source": [
        "Zen = 'SimpleIsBetterThanComplex'\n",
        "Zen[0]"
      ],
      "execution_count": 9,
      "outputs": [
        {
          "output_type": "execute_result",
          "data": {
            "application/vnd.google.colaboratory.intrinsic+json": {
              "type": "string"
            },
            "text/plain": [
              "'S'"
            ]
          },
          "metadata": {
            "tags": []
          },
          "execution_count": 9
        }
      ]
    },
    {
      "cell_type": "code",
      "metadata": {
        "colab": {
          "base_uri": "https://localhost:8080/"
        },
        "id": "qdzjDtF6Y7Qo",
        "outputId": "77f06a5d-f768-471f-e955-b90dc0d87a15"
      },
      "source": [
        "a, b = 0, 1\n",
        "while b < 10:\n",
        "    print(b, end=',')\n",
        "    a, b = b, a+b"
      ],
      "execution_count": 10,
      "outputs": [
        {
          "output_type": "stream",
          "text": [
            "1,1,2,3,5,8,"
          ],
          "name": "stdout"
        }
      ]
    },
    {
      "cell_type": "code",
      "metadata": {
        "colab": {
          "base_uri": "https://localhost:8080/"
        },
        "id": "BgSWbjG4ZRdb",
        "outputId": "e6994099-93e3-4b5d-b704-409081b4e86f"
      },
      "source": [
        "colors = ['red', 'green', 'blue']\n",
        "colors.append('yellow')\n",
        "colors.insert(0,'purple')\n",
        "for color in colors[2:]:\n",
        "    print(color, len(color), end = ', ')"
      ],
      "execution_count": 11,
      "outputs": [
        {
          "output_type": "stream",
          "text": [
            "green 5, blue 4, yellow 6, "
          ],
          "name": "stdout"
        }
      ]
    },
    {
      "cell_type": "code",
      "metadata": {
        "colab": {
          "base_uri": "https://localhost:8080/"
        },
        "id": "kWvHljV7ZcAj",
        "outputId": "9fffd9a6-ae05-41a2-a8b4-523d76ea5251"
      },
      "source": [
        "for n in range(2, 10):\n",
        "    for x in range(2 ,n):\n",
        "        if n % x == 0:\n",
        "            print(n, 'equals', x, '*', n//x)\n",
        "            break\n",
        "    else:\n",
        "        print(n,'is a prime number')"
      ],
      "execution_count": 24,
      "outputs": [
        {
          "output_type": "stream",
          "text": [
            "2 is a prime number\n",
            "3 is a prime number\n",
            "4 equals 2 * 2\n",
            "5 is a prime number\n",
            "6 equals 2 * 3\n",
            "7 is a prime number\n",
            "8 equals 2 * 4\n",
            "9 equals 3 * 3\n"
          ],
          "name": "stdout"
        }
      ]
    },
    {
      "cell_type": "code",
      "metadata": {
        "colab": {
          "base_uri": "https://localhost:8080/"
        },
        "id": "oVr4B3R4aAuN",
        "outputId": "3834b767-8841-4e7b-fd75-bbab0551b751"
      },
      "source": [
        "for i in range(-10, -30, -5):\n",
        "    print(i, end=\", \")"
      ],
      "execution_count": 25,
      "outputs": [
        {
          "output_type": "stream",
          "text": [
            "-10, -15, -20, -25, "
          ],
          "name": "stdout"
        }
      ]
    },
    {
      "cell_type": "code",
      "metadata": {
        "colab": {
          "base_uri": "https://localhost:8080/"
        },
        "id": "cB-iS7XfaFTQ",
        "outputId": "1f367015-adf9-44d6-d758-9979327bb0b5"
      },
      "source": [
        "Zen = ['Now','is','better','than','never']\n",
        "for i,v in enumerate(Zen):\n",
        "    print(i, v)"
      ],
      "execution_count": 28,
      "outputs": [
        {
          "output_type": "stream",
          "text": [
            "0 Now\n",
            "1 is\n",
            "2 better\n",
            "3 than\n",
            "4 never\n"
          ],
          "name": "stdout"
        }
      ]
    },
    {
      "cell_type": "code",
      "metadata": {
        "colab": {
          "base_uri": "https://localhost:8080/"
        },
        "id": "6oY9zXJEawNA",
        "outputId": "ced9ba0b-9b0d-4a2e-9090-c105396255a3"
      },
      "source": [
        "i = 5\n",
        "i = 6\n",
        "\n",
        "def f(arg = i):\n",
        "    i = 7\n",
        "    print(arg)\n",
        "\n",
        "i = 8\n",
        "i = 9\n",
        "\n",
        "f()"
      ],
      "execution_count": 29,
      "outputs": [
        {
          "output_type": "stream",
          "text": [
            "6\n"
          ],
          "name": "stdout"
        }
      ]
    },
    {
      "cell_type": "code",
      "metadata": {
        "colab": {
          "base_uri": "https://localhost:8080/"
        },
        "id": "BUT1IfjGa5XE",
        "outputId": "6aa7c91d-4694-4333-8f6b-09adb84d59e1"
      },
      "source": [
        "def culc(a, b=1, squares=[], cubes=[]):\n",
        "    squares.append(a ** 2)\n",
        "    cubes.append(b ** 3)\n",
        "    return squares, cubes\n",
        "\n",
        "print(culc(1))\n",
        "print(culc(2, 3))\n",
        "print(culc(3, 4))\n",
        "print(culc(4, 5))"
      ],
      "execution_count": 30,
      "outputs": [
        {
          "output_type": "stream",
          "text": [
            "([1], [1])\n",
            "([1, 4], [1, 27])\n",
            "([1, 4, 9], [1, 27, 64])\n",
            "([1, 4, 9, 16], [1, 27, 64, 125])\n"
          ],
          "name": "stdout"
        }
      ]
    },
    {
      "cell_type": "code",
      "metadata": {
        "id": "NDca2lRBa9JM"
      },
      "source": [
        "def location(city, state, country='Japan'):\n",
        "    print(\"I live in\",country,\".\")\n",
        "    print(\"My company is located in\",city,\",\",state,\".\")"
      ],
      "execution_count": 32,
      "outputs": []
    },
    {
      "cell_type": "code",
      "metadata": {
        "colab": {
          "base_uri": "https://localhost:8080/"
        },
        "id": "HShI3hVObitz",
        "outputId": "aa8214f7-acbb-43a7-e984-f5ba8022173c"
      },
      "source": [
        "def shop(name,*arguments,**keywords):\n",
        "    print(\"flowershop:\", name)\n",
        "    for arg in arguments:\n",
        "        print(arg)\n",
        "    print(\"**Recommended**\")\n",
        "    keys = sorted(keywords.keys())\n",
        "    for kw in keys:\n",
        "        print(kw, \":\", keywords[kw])\n",
        "\n",
        "shop(\"Iris\",\"Open: 9:30 am\",\"Close: 10:30 pm\",\"Monday and holidays are closed.\",bouquet=\"Sunflower\",plants=\"Pachira\",dried=\"Rose\")"
      ],
      "execution_count": 36,
      "outputs": [
        {
          "output_type": "stream",
          "text": [
            "flowershop: Iris\n",
            "Open: 9:30 am\n",
            "Close: 10:30 pm\n",
            "Monday and holidays are closed.\n",
            "**Recommended**\n",
            "bouquet : Sunflower\n",
            "dried : Rose\n",
            "plants : Pachira\n"
          ],
          "name": "stdout"
        }
      ]
    },
    {
      "cell_type": "code",
      "metadata": {
        "colab": {
          "base_uri": "https://localhost:8080/"
        },
        "id": "PZo2K7qPcQM1",
        "outputId": "819f3573-f615-4a28-b038-ecd565a221be"
      },
      "source": [
        "cubes = []\n",
        "for x in range(5):\n",
        "    cubes.append(x ** 3)\n",
        "\n",
        "print(cubes)"
      ],
      "execution_count": 37,
      "outputs": [
        {
          "output_type": "stream",
          "text": [
            "[0, 1, 8, 27, 64]\n"
          ],
          "name": "stdout"
        }
      ]
    },
    {
      "cell_type": "code",
      "metadata": {
        "colab": {
          "base_uri": "https://localhost:8080/"
        },
        "id": "BO1-m4KYc7Pz",
        "outputId": "a8853f11-4503-43a2-96ce-ff112023e622"
      },
      "source": [
        "matrix = [[2, 3, 5], [4, 9, 25], [8, 27, 125]]\n",
        "power = [row[2] for row in matrix]\n",
        "print(power)"
      ],
      "execution_count": 51,
      "outputs": [
        {
          "output_type": "stream",
          "text": [
            "[5, 25, 125]\n"
          ],
          "name": "stdout"
        }
      ]
    },
    {
      "cell_type": "code",
      "metadata": {
        "colab": {
          "base_uri": "https://localhost:8080/"
        },
        "id": "E5HFXAcXdOK2",
        "outputId": "814c174d-8b7b-4e40-b5da-9a49d35a8970"
      },
      "source": [
        "from collections import deque\n",
        "queue = deque([\"bear\", \"cow\", \"dog\", \"elephant\",\"fox\"])\n",
        "queue.append(\"goat\")\n",
        "queue.popleft()\n",
        "queue.pop()\n",
        "print(queue)"
      ],
      "execution_count": 54,
      "outputs": [
        {
          "output_type": "stream",
          "text": [
            "deque(['cow', 'dog', 'elephant', 'fox'])\n"
          ],
          "name": "stdout"
        }
      ]
    },
    {
      "cell_type": "code",
      "metadata": {
        "colab": {
          "base_uri": "https://localhost:8080/"
        },
        "id": "uTXRAJbqdonf",
        "outputId": "06447ad6-998c-4f3e-db10-78cf579475ce"
      },
      "source": [
        "list = [-10, 1, 15, 20, 30]\n",
        "list.insert(2,5)\n",
        "list.append(50)\n",
        "list.sort(reverse = True)\n",
        "list.pop(-1)\n",
        "print(list)"
      ],
      "execution_count": 55,
      "outputs": [
        {
          "output_type": "stream",
          "text": [
            "[50, 30, 20, 15, 5, 1]\n"
          ],
          "name": "stdout"
        }
      ]
    },
    {
      "cell_type": "code",
      "metadata": {
        "colab": {
          "base_uri": "https://localhost:8080/"
        },
        "id": "QEZdCh-ldtrb",
        "outputId": "f16b64ef-7bcf-4546-8d06-eabb208f1383"
      },
      "source": [
        "Zen = 'ExplicitIsBetterThanImplicit'\n",
        "print(Zen[1:20:3])"
      ],
      "execution_count": 56,
      "outputs": [
        {
          "output_type": "stream",
          "text": [
            "xitBtTn\n"
          ],
          "name": "stdout"
        }
      ]
    },
    {
      "cell_type": "code",
      "metadata": {
        "id": "CcsqfKN7d6ya"
      },
      "source": [
        "# (1, 2, 3, 4) > (1, 2, 5)\n",
        "# 'PHP' < 'Perl' < 'Python'\n",
        "#(1, 2) > (1, 2, -1)\n",
        "#(10, 20) != (10.0, 20.0)\n",
        " (1, 2, ('bb', 'a')) > (1, 2, ('bcd', 'b'))"
      ],
      "execution_count": null,
      "outputs": []
    },
    {
      "cell_type": "code",
      "metadata": {
        "colab": {
          "base_uri": "https://localhost:8080/"
        },
        "id": "yYFnVLwze5zO",
        "outputId": "3e1887d7-cd8c-4f72-cd7d-83ba34f6f781"
      },
      "source": [
        "try:\n",
        "    int_a = int(input('整数a:'))\n",
        "    int_b = int(input('整数b:'))\n",
        "    print(int_a ** 2)\n",
        "    print((int_a ** 2) / int_b)\n",
        "except(ValueError) as v:\n",
        "    print(type(v))\n",
        "    print('C')\n",
        "except(ZeroDivisionError) :\n",
        "    print('D')\n",
        "except:\n",
        "    print('E')\n",
        "else:\n",
        "    print('F')\n",
        "finally:\n",
        "    print('G')"
      ],
      "execution_count": 70,
      "outputs": [
        {
          "output_type": "stream",
          "text": [
            "整数a:5\n",
            "整数b:0\n",
            "25\n",
            "D\n",
            "G\n"
          ],
          "name": "stdout"
        }
      ]
    },
    {
      "cell_type": "code",
      "metadata": {
        "colab": {
          "base_uri": "https://localhost:8080/"
        },
        "id": "JX6FcvmTfxNU",
        "outputId": "b75a6a7b-9926-4ceb-8538-e4e9761f969c"
      },
      "source": [
        "class OurException(Exception):\n",
        "    pass\n",
        "def raise_her_exception(a):\n",
        "    print(a, 'is a')\n",
        "    raise OurException\n",
        "    print('easygoing person.')\n",
        "def func(key: int):\n",
        "    try:\n",
        "        if key == 0:\n",
        "            raise_her_exception('Saya')\n",
        "    except OurException as e:\n",
        "        print('intelligent')\n",
        "        raise Exception\n",
        "\n",
        "key = 0\n",
        "try:\n",
        "    func(key)\n",
        "except Exception as f:\n",
        "    print('speedster.')"
      ],
      "execution_count": 75,
      "outputs": [
        {
          "output_type": "stream",
          "text": [
            "Saya is a\n",
            "intelligent\n",
            "speedster.\n"
          ],
          "name": "stdout"
        }
      ]
    },
    {
      "cell_type": "code",
      "metadata": {
        "id": "w3CTpSHtgKM3"
      },
      "source": [
        "class kusanagi():\n",
        "    def s(self):\n",
        "        print(\"I'm Saya.\")\n",
        "        self.m()\n",
        "    def m(self): \n",
        "        print(\"I'm Magatama.\")\n",
        "\n",
        "class onimaru(kusanagi):\n",
        "    self.d()\n",
        "        print(\"I'm David.\")\n",
        "\n",
        "k = kusanagi()\n",
        "o = onimaru()\n",
        "k.s()\n",
        "o.d()"
      ],
      "execution_count": null,
      "outputs": []
    },
    {
      "cell_type": "code",
      "metadata": {
        "id": "3oM7-1Odg6TQ"
      },
      "source": [
        "import sys\n",
        "python3 script.py one two three four five\n",
        "print(sys.argv[0:2])"
      ],
      "execution_count": null,
      "outputs": []
    },
    {
      "cell_type": "code",
      "metadata": {
        "id": "oJLeq8pkhTl_"
      },
      "source": [
        "import re\n",
        "prog = re.compile('(K|S)us(a|u)n(a|o)(o|m)?g?i?(saya)?', re.IGNORECASE)\n",
        "ret = prog.search('Kusaneiro')\n",
        "print(ret[0])"
      ],
      "execution_count": null,
      "outputs": []
    },
    {
      "cell_type": "code",
      "metadata": {
        "colab": {
          "base_uri": "https://localhost:8080/"
        },
        "id": "Vc99SY92hh_d",
        "outputId": "9e2dce5d-c846-4c02-eddc-a1b3cd924c4c"
      },
      "source": [
        "import statistics\n",
        "data = [1,10,15,20,25,30,35]\n",
        "rslt1 = statistics.mean(data)\n",
        "rslt2 = statistics.median(data)\n",
        "rslt3 = statistics.variance(data)\n",
        "print(rslt1, rslt2, rslt3)"
      ],
      "execution_count": 93,
      "outputs": [
        {
          "output_type": "stream",
          "text": [
            "19.428571428571427 20 138.95238095238093\n"
          ],
          "name": "stdout"
        }
      ]
    },
    {
      "cell_type": "code",
      "metadata": {
        "colab": {
          "base_uri": "https://localhost:8080/"
        },
        "id": "uHxwjNZOh85z",
        "outputId": "eb6ce4de-58f7-4ba9-dfda-615662bcb135"
      },
      "source": [
        "from datetime import date\n",
        "now = date.today()\n",
        "print(now)"
      ],
      "execution_count": 96,
      "outputs": [
        {
          "output_type": "stream",
          "text": [
            "2021-05-15\n"
          ],
          "name": "stdout"
        }
      ]
    }
  ]
}